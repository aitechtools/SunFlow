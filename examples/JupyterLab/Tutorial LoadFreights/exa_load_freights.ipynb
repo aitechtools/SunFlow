{
 "cells": [
  {
   "cell_type": "code",
   "execution_count": 4,
   "metadata": {},
   "outputs": [
    {
     "name": "stdout",
     "output_type": "stream",
     "text": [
      "Pre-defined default paths:\n",
      "  userDir  =  /users/rainer/\n",
      "  chartDir =  py/pydata/tempdata/sunflowtemp/\n",
      "  frameDir =  py/pydata/tempdata/sunflowtemp/\n",
      "  dataDir  =  py/pydata/datasets/\n",
      "\n",
      "  buildPath(): default path      = /users/rainer/py/pydata/tempdata/sunflowtemp/\n",
      "  buildPath(chart): file path    = /users/rainer/py/pydata/tempdata/sunflowtemp/peter.xlsx\n",
      "  buildPath(frame): file path    = /users/rainer/py/pydata/tempdata/sunflowtemp/mary.xlsx\n",
      "  buildPath(data): file path     = /users/rainer/py/pydata/datasets/freight.xlsx\n",
      "SunFlow\n",
      "Entities\n",
      "  [  0] Location    Europe\n",
      "  [  1] Location    NewYork\n",
      "  [  2] Location    NewOrleans\n",
      "  [  3] Location    StLouis\n",
      "  [  4] Freight     Europe => NewYork\n",
      "  [  5] Freight     Europe => NewOrleans\n",
      "  [  6] Freight     NewYork => StLouis\n",
      "  [  7] Freight     NewOrleans => StLouis\n",
      "\n"
     ]
    }
   ],
   "source": [
    "globals().clear(); import aitpath; import importlib,sunflow; importlib.reload(sunflow)\n",
    "from sunflow import Location, Material, Product, Supplier, Producer,Customer, SupplyNet, Freight, InitSunflow, Capacity, Logistics, Demand,SunFlow\n",
    "\n",
    "sun = SunFlow()\n",
    "\n",
    "print('Pre-defined default paths:')\n",
    "print('  userDir  = ',sun.userDir())\n",
    "print('  chartDir = ',sun.chartDir())\n",
    "print('  frameDir = ',sun.frameDir())\n",
    "print('  dataDir  = ',sun.dataDir())\n",
    "\n",
    "print()\n",
    "fpath = sun.buildPath();                                      print('  buildPath(): default path      =',fpath)\n",
    "fpath = sun.buildPath('peter.xlsx',   path='', kind='chart'); print('  buildPath(chart): file path    =',fpath)\n",
    "fpath = sun.buildPath('mary.xlsx',    path='', kind='frame'); print('  buildPath(frame): file path    =',fpath)\n",
    "fpath = sun.buildPath('freight.xlsx', path='', kind='data');  print('  buildPath(data): file path     =',fpath)\n",
    "\n",
    "sun.dataDir('py/pydata/datasets/')\n",
    "sun.loadFreights('WineryFreights.xlsx')\n",
    "\n",
    "sun.show()\n",
    "print()"
   ]
  },
  {
   "cell_type": "code",
   "execution_count": null,
   "metadata": {},
   "outputs": [],
   "source": []
  },
  {
   "cell_type": "code",
   "execution_count": null,
   "metadata": {},
   "outputs": [],
   "source": []
  }
 ],
 "metadata": {
  "kernelspec": {
   "display_name": "Python 3",
   "language": "python",
   "name": "python3"
  },
  "language_info": {
   "codemirror_mode": {
    "name": "ipython",
    "version": 3
   },
   "file_extension": ".py",
   "mimetype": "text/x-python",
   "name": "python",
   "nbconvert_exporter": "python",
   "pygments_lexer": "ipython3",
   "version": "3.7.6"
  }
 },
 "nbformat": 4,
 "nbformat_minor": 4
}
