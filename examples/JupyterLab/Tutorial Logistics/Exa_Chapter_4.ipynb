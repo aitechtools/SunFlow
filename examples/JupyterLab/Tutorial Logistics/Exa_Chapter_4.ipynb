{
 "cells": [
  {
   "cell_type": "code",
   "execution_count": 1,
   "metadata": {},
   "outputs": [],
   "source": [
    "globals().clear(); import aitpath; import importlib,sunflow; importlib.reload(sunflow)\n",
    "from sunflow import SupplyNet,Logistics,Customer,Location,Freight,Producer\n",
    "\n",
    "Europe      = Location('Europe')  \n",
    "New_York    = Location('New York')  \n",
    "New_Orleans = Location('New Orleans')\n",
    "StLouis     = Location('StLouis')   \n",
    "\n",
    "Freight(Europe,       New_York,      2500/20 )\n",
    "Freight(Europe,       New_Orleans,   2900/20 )\n",
    "Freight(New_York,     StLouis,       1200/20 )\n",
    "Freight(New_Orleans,  StLouis,        820/20 )\n",
    "\n",
    "Winery          = Producer('Winery')          .at(Europe)\n",
    "New_York_WH     = Logistics('New York WH')    .at(New_York)\n",
    "New_Orleans_WH  = Logistics('New_Orleans WH') .at(New_Orleans)\n",
    "Walmart         = Customer('Walmart')         .at(StLouis)\n",
    "\n",
    "net = SupplyNet('Chapter 2 Distribution USA').display(0)\n",
    "\n",
    "winery = net.source().n(' ') .by(Winery)  \n",
    "\n",
    "new_york    = net.distribution(winery).n(' ').by(New_York_WH).varcost(4)\n",
    "new_orleans = net.distribution(winery).n(' ').by(New_Orleans_WH).varcost(2).capacity(8)\n",
    "\n",
    "walmart = net.delivery(new_york, new_orleans).n(' ') .at(Walmart) .demand(20)\n",
    "\n",
    "net.compile()\n",
    "\n",
    "net.showGraph().view()\n",
    "\n",
    "net.execute().showGraph(orient='BT').view()\n",
    "#\n",
    "#  ... show only those nodes which have flow\n",
    "#\n",
    "net.execute().showGraph(flowOnly=True, orient='BT').view()"
   ]
  },
  {
   "cell_type": "code",
   "execution_count": null,
   "metadata": {},
   "outputs": [],
   "source": []
  },
  {
   "cell_type": "code",
   "execution_count": null,
   "metadata": {},
   "outputs": [],
   "source": []
  }
 ],
 "metadata": {
  "kernelspec": {
   "display_name": "Python 3",
   "language": "python",
   "name": "python3"
  },
  "language_info": {
   "codemirror_mode": {
    "name": "ipython",
    "version": 3
   },
   "file_extension": ".py",
   "mimetype": "text/x-python",
   "name": "python",
   "nbconvert_exporter": "python",
   "pygments_lexer": "ipython3",
   "version": "3.7.6"
  }
 },
 "nbformat": 4,
 "nbformat_minor": 4
}
