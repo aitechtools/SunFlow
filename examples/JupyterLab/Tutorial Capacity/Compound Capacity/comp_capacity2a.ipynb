{
 "cells": [
  {
   "cell_type": "code",
   "execution_count": 2,
   "metadata": {},
   "outputs": [],
   "source": [
    "globals().clear(); import aitpath; import importlib,sunflow; importlib.reload(sunflow)\n",
    "from sunflow import Location, Material, Product, Supplier, Producer,Customer, SupplyNet, Freight, InitSunflow, Capacity, Logistics, Demand\n",
    "\n",
    "\n",
    "sun = InitSunflow()\n",
    "\n",
    "prod_loc = Location('prod city')\n",
    "log1_loc = Location('log city 1')\n",
    "log2_loc = Location('log city 2')\n",
    "cust_loc = Location('cust city')\n",
    "\n",
    "capa_distrib  = Capacity('Distribution',80)\n",
    "\n",
    "producer = Producer('Prod').at(prod_loc)\n",
    "log1     = Logistics('Log1').at(log1_loc).compoundCapacity(capa_distrib)\n",
    "log2     = Logistics('Log2').at(log2_loc).compoundCapacity(capa_distrib)\n",
    "customer = Customer('Cust').at(cust_loc)\n",
    "\n",
    "Freight(prod_loc,  log1_loc,    70) \n",
    "Freight(prod_loc,  log2_loc,    70)\n",
    "Freight(prod_loc,  cust_loc,    90) \n",
    "Freight(log1_loc,   cust_loc,   10)\n",
    "Freight(log2_loc,   cust_loc,   10)\n",
    "\n",
    "\n",
    "\n",
    "n = SupplyNet('CompoundCapcacity 2a')\n",
    "\n",
    "prod  = n.source()          .at(producer).capacity(200)\n",
    "dist1 = n.distribution(prod).at(log1)    .capacity(150)    \n",
    "dist2 = n.distribution(prod).at(log2)    .capacity(150)      \n",
    "\n",
    "cust = n.delivery(dist1,dist2,prod) .at(customer) .demand(100)\n",
    "\n",
    "n.compile()\n",
    "\n",
    "n.showGraph().view()\n",
    "n.execute().showGraph().view()\n",
    "\n"
   ]
  },
  {
   "cell_type": "code",
   "execution_count": null,
   "metadata": {},
   "outputs": [],
   "source": []
  }
 ],
 "metadata": {
  "kernelspec": {
   "display_name": "Python 3",
   "language": "python",
   "name": "python3"
  },
  "language_info": {
   "codemirror_mode": {
    "name": "ipython",
    "version": 3
   },
   "file_extension": ".py",
   "mimetype": "text/x-python",
   "name": "python",
   "nbconvert_exporter": "python",
   "pygments_lexer": "ipython3",
   "version": "3.7.6"
  }
 },
 "nbformat": 4,
 "nbformat_minor": 4
}
