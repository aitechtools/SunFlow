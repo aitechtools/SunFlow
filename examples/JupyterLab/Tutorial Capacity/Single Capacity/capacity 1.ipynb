{
 "cells": [
  {
   "cell_type": "code",
   "execution_count": 3,
   "metadata": {},
   "outputs": [],
   "source": [
    "globals().clear(); import aitpath; import importlib,sunflow; importlib.reload(sunflow)\n",
    "from sunflow import Location, Material, Product, Supplier, Producer,Customer, SupplyNet, Freight, InitSunflow, Capacity, Logistics, Demand\n",
    "\n",
    "#sun = InitSunflow()\n",
    "\n",
    "producer = Producer('Prod')\n",
    "log      = Logistics('Log')\n",
    "customer = Customer('Cust')\n",
    "\n",
    "n = SupplyNet('Capcacity 1')\n",
    "\n",
    "prod = n.source()          .at(producer)\n",
    "log  = n.distribution(prod).at(log)\n",
    "cust = n.delivery(log)     .at(customer).demand(100)\n",
    "\n",
    "n.compile()\n",
    "\n",
    "n.showGraph().view()\n",
    "n.execute().showGraph().view()\n",
    "\n",
    "\n"
   ]
  },
  {
   "cell_type": "code",
   "execution_count": null,
   "metadata": {},
   "outputs": [],
   "source": []
  }
 ],
 "metadata": {
  "kernelspec": {
   "display_name": "Python 3",
   "language": "python",
   "name": "python3"
  },
  "language_info": {
   "codemirror_mode": {
    "name": "ipython",
    "version": 3
   },
   "file_extension": ".py",
   "mimetype": "text/x-python",
   "name": "python",
   "nbconvert_exporter": "python",
   "pygments_lexer": "ipython3",
   "version": "3.7.6"
  }
 },
 "nbformat": 4,
 "nbformat_minor": 4
}
