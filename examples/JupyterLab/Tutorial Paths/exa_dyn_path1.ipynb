{
 "cells": [
  {
   "cell_type": "code",
   "execution_count": 2,
   "metadata": {},
   "outputs": [
    {
     "name": "stdout",
     "output_type": "stream",
     "text": [
      "  userDir  =  /users/rainer/\n",
      "  chartDir =  py/sunflow/charts/\n",
      "  frameDir =  py/sunflow/data/\n",
      "  dataDir  =  py/sunflow/data/\n"
     ]
    }
   ],
   "source": [
    "globals().clear(); import aitpath; import importlib,sunflow; importlib.reload(sunflow)\n",
    "from sunflow import SunFlow\n",
    "\n",
    "sun = SunFlow()\n",
    "#\n",
    "# set new paths\n",
    "#\n",
    "sun.chartDir('py/sunflow/charts/')\n",
    "sun.frameDir('py/sunflow/data/')\n",
    "sun.dataDir('py/sunflow/data/')\n",
    "\n",
    "#\n",
    "# print redefined paths\n",
    "#\n",
    "print('  userDir  = ',sun.userDir())\n",
    "print('  chartDir = ',sun.chartDir())\n",
    "print('  frameDir = ',sun.frameDir())\n",
    "print('  dataDir  = ',sun.dataDir())\n",
    "\n"
   ]
  },
  {
   "cell_type": "code",
   "execution_count": null,
   "metadata": {},
   "outputs": [],
   "source": []
  },
  {
   "cell_type": "code",
   "execution_count": null,
   "metadata": {},
   "outputs": [],
   "source": []
  }
 ],
 "metadata": {
  "kernelspec": {
   "display_name": "Python 3",
   "language": "python",
   "name": "python3"
  },
  "language_info": {
   "codemirror_mode": {
    "name": "ipython",
    "version": 3
   },
   "file_extension": ".py",
   "mimetype": "text/x-python",
   "name": "python",
   "nbconvert_exporter": "python",
   "pygments_lexer": "ipython3",
   "version": "3.7.6"
  }
 },
 "nbformat": 4,
 "nbformat_minor": 4
}
