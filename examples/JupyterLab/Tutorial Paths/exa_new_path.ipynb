{
 "cells": [
  {
   "cell_type": "code",
   "execution_count": 1,
   "metadata": {},
   "outputs": [
    {
     "name": "stdout",
     "output_type": "stream",
     "text": [
      "\n",
      "\n",
      "Now build user-defined paths:\n",
      "\n",
      "  userDir  =  /users/rainer/\n",
      "  chartDir =  py/sunflow/charts/\n",
      "  frameDir =  py/sunflow/data/\n",
      "  dataDir  =  py/sunflow/data/\n",
      "\n",
      "  buildPath(): default path      = /users/rainer/py/sunflow/charts/\n",
      "  buildPath(chart): file path    = /users/rainer/py/sunflow/charts/peter.xlsx\n",
      "  buildPath(frame): file path    = /users/rainer/py/sunflow/data/mary.xlsx\n",
      "  buildPath(data): file path     = /users/rainer/py/sunflow/data/freight.xlsx\n"
     ]
    }
   ],
   "source": [
    "globals().clear(); import aitpath; import importlib,sunflow; importlib.reload(sunflow)\n",
    "from sunflow import SunFlow\n",
    "\n",
    "sun = SunFlow()\n",
    "\n",
    "print('\\n\\nNow build user-defined paths:\\n')\n",
    "\n",
    "sun.chartDir('py/sunflow/charts/')\n",
    "sun.frameDir('py/sunflow/data/')\n",
    "sun.dataDir('py/sunflow/data/')\n",
    "print('  userDir  = ',sun.userDir())\n",
    "print('  chartDir = ',sun.chartDir())\n",
    "print('  frameDir = ',sun.frameDir())\n",
    "print('  dataDir  = ',sun.dataDir())\n",
    "\n",
    "print()\n",
    "fpath = sun.buildPath();                                       print('  buildPath(): default path      =',fpath)\n",
    "fpath = sun.buildPath('peter.xlsx',   path='', kind='chart');  print('  buildPath(chart): file path    =',fpath)\n",
    "fpath = sun.buildPath('mary.xlsx',    path='', kind='frame');  print('  buildPath(frame): file path    =',fpath)\n",
    "fpath = sun.buildPath('freight.xlsx', path='', kind='data');   print('  buildPath(data): file path     =',fpath)\n"
   ]
  },
  {
   "cell_type": "code",
   "execution_count": null,
   "metadata": {},
   "outputs": [],
   "source": []
  },
  {
   "cell_type": "code",
   "execution_count": null,
   "metadata": {},
   "outputs": [],
   "source": []
  }
 ],
 "metadata": {
  "kernelspec": {
   "display_name": "Python 3",
   "language": "python",
   "name": "python3"
  },
  "language_info": {
   "codemirror_mode": {
    "name": "ipython",
    "version": 3
   },
   "file_extension": ".py",
   "mimetype": "text/x-python",
   "name": "python",
   "nbconvert_exporter": "python",
   "pygments_lexer": "ipython3",
   "version": "3.7.6"
  }
 },
 "nbformat": 4,
 "nbformat_minor": 4
}
