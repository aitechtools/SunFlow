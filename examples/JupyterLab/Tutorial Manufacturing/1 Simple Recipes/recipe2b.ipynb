{
 "cells": [
  {
   "cell_type": "code",
   "execution_count": 1,
   "metadata": {},
   "outputs": [],
   "source": [
    "globals().clear(); import aitpath; import importlib,sunflow; importlib.reload(sunflow)\n",
    "from sunflow import Location, Material, Product, Supplier, Producer,Customer, SupplyNet, Freight, InitSunflow, Capacity, Logistics, Demand\n",
    "\n",
    "\n",
    "mA = Material('mA')\n",
    "mB = Material('mB')\n",
    "\n",
    "product = Product('product').ingredient(mA,0.3).ingredient(mB,0.7)\n",
    "\n",
    "sA      = Supplier('sA') .capacity(500)\n",
    "sA2     = Supplier('sA2').capacity(500)\n",
    "sB      = Supplier('sB') .capacity(800)\n",
    "\n",
    "reactor = Producer('reactor').capacity(2000)  \n",
    "market  = Customer('Market')\n",
    "\n",
    "n = SupplyNet('Recipe 2b')\n",
    "\n",
    "m_a  = mA.raw(mA.name()).by(sA) .price(77)\n",
    "m_a2 = mA.raw(mA.name()).by(sA2).price(55)\n",
    "m_b  = mB.raw(mB.name()).by(sB) .price(88)\n",
    "\n",
    "p_reactor = product.production( m_a, m_a2, m_b).at(reactor)\n",
    "\n",
    "n.delivery(p_reactor).demand(1000).title('Market')\n",
    "\n",
    "n.compile()\n",
    "n.showGraph().view()\n",
    "n.execute().showGraph().view()\n",
    "\n",
    "\n",
    "\n",
    "\n",
    "\n",
    "a=0"
   ]
  },
  {
   "cell_type": "code",
   "execution_count": null,
   "metadata": {},
   "outputs": [],
   "source": []
  }
 ],
 "metadata": {
  "kernelspec": {
   "display_name": "Python 3",
   "language": "python",
   "name": "python3"
  },
  "language_info": {
   "codemirror_mode": {
    "name": "ipython",
    "version": 3
   },
   "file_extension": ".py",
   "mimetype": "text/x-python",
   "name": "python",
   "nbconvert_exporter": "python",
   "pygments_lexer": "ipython3",
   "version": "3.7.6"
  }
 },
 "nbformat": 4,
 "nbformat_minor": 4
}
