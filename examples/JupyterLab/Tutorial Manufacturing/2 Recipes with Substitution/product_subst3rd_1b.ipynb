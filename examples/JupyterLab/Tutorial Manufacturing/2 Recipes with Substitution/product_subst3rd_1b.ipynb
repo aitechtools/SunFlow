{
 "cells": [
  {
   "cell_type": "code",
   "execution_count": 1,
   "metadata": {},
   "outputs": [],
   "source": [
    "globals().clear(); import aitpath; import importlib,sunflow; importlib.reload(sunflow)\n",
    "from sunflow import Location, Material, Product, Supplier, Producer,Customer, SupplyNet, Freight, InitSunflow, Capacity, Logistics, Demand\n",
    "\n",
    "\n",
    "mA   = Material('A')\n",
    "mB   = Material('B')\n",
    "\n",
    "p1   = Product('p1').ingredient(mA,0.3).ingredient(mB,0.7)\n",
    "mP1x = Material('p1x').substituting(p1)\n",
    "\n",
    "\n",
    "sA = Supplier('sA')\n",
    "sB = Supplier('sB')\n",
    "sX = Supplier('sX').capacity(400)\n",
    "\n",
    "blender = Producer('Blender').capacity(800)  \n",
    "wh      = Logistics('warehouse') \n",
    "\n",
    "n = SupplyNet('ProdSubst 1b')\n",
    "\n",
    "m_a   = mA.raw(mA.name())     .by(sA)\n",
    "m_b   = mB.raw(mB.name())     .by(sB)\n",
    "m_p1x = mP1x.raw(mP1x.name()) .by(sX) .price(350)\n",
    "\n",
    "p_blend = p1.production( m_a, m_b).at(blender).varcost(300)\n",
    "p_wh    = n.distribution(p_blend, m_p1x).at(wh)\n",
    "\n",
    "n.distribution(p_wh).title('Market').demand(1000)\n",
    "\n",
    "\n",
    "n.compile()\n",
    "n.showGraph().view()\n",
    "n.execute().showGraph().view()\n",
    "\n",
    "\n",
    "\n",
    "a=0"
   ]
  },
  {
   "cell_type": "code",
   "execution_count": null,
   "metadata": {},
   "outputs": [],
   "source": []
  },
  {
   "cell_type": "code",
   "execution_count": null,
   "metadata": {},
   "outputs": [],
   "source": []
  }
 ],
 "metadata": {
  "kernelspec": {
   "display_name": "Python 3",
   "language": "python",
   "name": "python3"
  },
  "language_info": {
   "codemirror_mode": {
    "name": "ipython",
    "version": 3
   },
   "file_extension": ".py",
   "mimetype": "text/x-python",
   "name": "python",
   "nbconvert_exporter": "python",
   "pygments_lexer": "ipython3",
   "version": "3.7.6"
  }
 },
 "nbformat": 4,
 "nbformat_minor": 4
}
